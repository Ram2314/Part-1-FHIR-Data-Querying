{
 "cells": [
  {
   "cell_type": "markdown",
   "id": "cdbf855a7a17d1f6",
   "metadata": {},
   "source": [
    "# Making Request to Patient Resource\n",
    "\n",
    "In order to make a request from using Python, we leverage the `requests` library. To form the request, we need three things: base URL, resource name, and parameters.\n",
    "\n",
    "## Components of the Request\n",
    "\n",
    "### 1. Base URL\n",
    "The base URL is the address of the FHIR server where the resources are hosted. This is the starting point for any FHIR request and directs the request to the correct server.\n",
    "\n",
    "### 2. Resource Name\n",
    "The resource name specifies the type of FHIR resource you want to interact with. FHIR defines many resource types such as `Patient`, `Observation`, `Medication`, etc. The resource name is appended to the base URL to form the endpoint for the request.\n",
    "\n",
    "### 3. Parameters\n",
    "Parameters are used to refine and control the data returned by the FHIR server. They can specify various criteria such as format, filters, and other query options.\n",
    "\n",
    "Common parameters include:\n",
    "- `_format`: Specifies the response format (e.g., `json`, `xml`).\n",
    "- `_pretty`: Formats the response for readability.\n",
    "\n",
    "Every API endpoint has different parameters. Usually they are outlined in the documentation. For the `Patient` Resource one such parameter is `birthday`. This means we can query for patient data by birthday"
   ]
  },
  {
   "cell_type": "code",
   "execution_count": null,
   "id": "8484fe92a8fd6f56",
   "metadata": {
    "ExecuteTime": {
     "end_time": "2024-07-08T13:36:33.308850Z",
     "start_time": "2024-07-08T13:36:33.134309Z"
    }
   },
   "outputs": [],
   "source": [
    "import requests\n",
    "\n",
    "# Base URL\n",
    "base_url = 'http://fhirserver.hl7fundamentals.org/fhir'\n",
    "\n",
    "# Resource name\n",
    "resource = 'Patient'\n",
    "\n",
    "# Parameters for the request\n",
    "params = {\n",
    "    'birthdate': 'ge1980-01-01',  # Example birthdate\n",
    "    '_format': 'json',\n",
    "    '_pretty': 'true'\n",
    "}\n",
    "\n",
    "# Construct the request URL\n",
    "patient_request_url = f\"{base_url}/{resource}\"\n",
    "\n",
    "# Print the request URL for debugging purposes\n",
    "print('Requesting Patient Resource from:', patient_request_url)\n",
    "\n",
    "# Perform the request with parameters\n",
    "response = requests.get(patient_request_url, params=params)\n",
    "\n",
    "# Check if the request was successful\n",
    "if response.status_code == 200:\n",
    "    # Print the response in JSON format\n",
    "    patient_data = response.json()\n",
    "else:\n",
    "    print(f\"Failed to retrieve data: {response.status_code}\")\n",
    "\n",
    "# Example: Extract and print specific patient information\n",
    "if 'entry' in patient_data:\n",
    "    for entry in patient_data['entry']:\n",
    "        patient = entry['resource']\n",
    "        print(f\"Patient ID: {patient.get('id', 'N/A')}\")\n",
    "        print(f\"Name: {patient.get('name', 'N/A')}\")\n",
    "        print(f\"Gender: {patient.get('gender', 'N/A')}\")\n",
    "        print(f\"Birthdate: {patient.get('birthDate', 'N/A')}\")\n",
    "else:\n",
    "    print(\"No patient data found.\")\n"
   ]
  },
  {
   "cell_type": "markdown",
   "id": "634a7ca9f7c89709",
   "metadata": {},
   "source": [
    "# Activity\n",
    "\n",
    "Please look for another parameter for the Patient resource to filter by and create a new request to fetch patient data.\n",
    "\n",
    "## Step-by-Step Instructions\n",
    "\n",
    "1. **Research Additional Parameters**:\n",
    "   - Visit [FHIR Patient Resource](http://fhirserver.hl7fundamentals.org/resource?serverId=home&pretty=true&_summary=&resource=Patient) to find other parameters that can be used to filter patient data.\n",
    "\n",
    "2. **Choose a Parameter**:\n",
    "   - Select one parameter from the documentation. For this example, let's choose `gender` to filter patients by gender.\n",
    "\n",
    "3. **Formulate the Request**:\n",
    "   - Update the `params` dictionary to include the new parameter along with the existing ones.\n"
   ]
  },
  {
   "cell_type": "code",
   "execution_count": null,
   "id": "a16a8ac02e901b95",
   "metadata": {
    "ExecuteTime": {
     "end_time": "2024-07-10T11:57:25.814276Z",
     "start_time": "2024-07-10T11:57:25.287784Z"
    }
   },
   "outputs": [],
   "source": [
    "import requests\n",
    "\n",
    "# Base URL\n",
    "base_url = 'http://fhirserver.hl7fundamentals.org/fhir'\n",
    "\n",
    "# Resource name\n",
    "resource = 'Patient'\n",
    "\n",
    "# Parameters for the request\n",
    "params = {\n",
    "    'gender': 'female',\n",
    "    '_format': 'json',\n",
    "    '_pretty': 'true'\n",
    "}\n",
    "\n",
    "# Construct the request URL\n",
    "patient_request_url = f\"{base_url}/{resource}\"\n",
    "\n",
    "# Print the request URL for debugging purposes\n",
    "print('Requesting Patient Resource from:', patient_request_url)\n",
    "\n",
    "# Perform the request with parameters\n",
    "response = requests.get(patient_request_url, params=params)\n",
    "\n",
    "# Check if the request was successful\n",
    "if response.status_code == 200:\n",
    "    # Print the response in JSON format\n",
    "    patient_data = response.json()\n",
    "else:\n",
    "    print(f\"Failed to retrieve data: {response.status_code}\")\n",
    "\n",
    "# Example: Extract and print specific patient information\n",
    "if 'entry' in patient_data:\n",
    "    for entry in patient_data['entry']:\n",
    "        patient = entry['resource']\n",
    "        print(f\"Patient ID: {patient.get('id', 'N/A')}\")\n",
    "        print(f\"Name: {patient.get('name', 'N/A')}\")\n",
    "        print(f\"Gender: {patient.get('gender', 'N/A')}\")\n",
    "        print(f\"Birthdate: {patient.get('birthDate', 'N/A')}\")\n",
    "else:\n",
    "    print(\"No patient data found.\")\n"
   ]
  },
  {
   "cell_type": "code",
   "execution_count": null,
   "id": "872c2253d1efab1f",
   "metadata": {
    "ExecuteTime": {
     "end_time": "2024-07-10T11:17:02.895836Z",
     "start_time": "2024-07-10T11:17:02.889966Z"
    }
   },
   "outputs": [],
   "source": [
    "response.json()"
   ]
  },
  {
   "cell_type": "markdown",
   "id": "75f4f6e4015c997c",
   "metadata": {},
   "source": [
    "# Medical Request\n",
    "\n",
    "Create a simple medical request for a patient using Epic on FHIR. Follow the steps below to complete the task.\n",
    "\n",
    "1. **Select a Patient**:\n",
    "    - Use the Epic FHIR Sandbox to select a patient. You can do this by searching for patients or using a specific patient ID provided in the sandbox environment.\n",
    "    - Note down the patient ID for use in your request.\n",
    "\n",
    "2. **Identify the Base URL Endpoint**:\n",
    "    - The base URL for making FHIR requests in the Epic Sandbox environment is typically: `http://fhirserver.hl7fundamentals.org/fhir\"`\n",
    "    - Ensure you have the correct endpoint for your requests.\n",
    "\n",
    "3. **Create a Medical Request**:\n",
    "    - Use the patient ID and the base URL to create a medical request. Below is an example of how to structure your request in Python using the `requests` library."
   ]
  },
  {
   "cell_type": "code",
   "execution_count": null,
   "id": "edb0234285ec2f82",
   "metadata": {
    "ExecuteTime": {
     "end_time": "2024-07-10T11:55:38.165652Z",
     "start_time": "2024-07-10T11:55:38.021492Z"
    }
   },
   "outputs": [],
   "source": [
    "import requests\n",
    "\n",
    "# Step 1: Select a Patient\n",
    "patient_id = '6636'  # Example patient ID\n",
    "\n",
    "# Step 2: Identify the Base URL Endpoint\n",
    "base_url = 'http://fhirserver.hl7fundamentals.org/fhir'\n",
    "\n",
    "# Step 3: Create a Medical Request\n",
    "# Resource name\n",
    "resource = 'MedicationRequest'\n",
    "\n",
    "# Parameters for the request\n",
    "params = {\n",
    "    'patient': patient_id,  # Patient ID\n",
    "    '_format': 'json',\n",
    "}\n",
    "\n",
    "# Construct the request URL\n",
    "patient_request_url = f\"{base_url}/{resource}\"\n",
    "\n",
    "# Print the request URL for debugging purposes\n",
    "print('Requesting Patient Resource from:', patient_request_url)\n",
    "\n",
    "# Perform the request with parameters\n",
    "response = requests.get(patient_request_url, params=params)\n",
    "\n",
    "# Check if the request was successful\n",
    "if response.status_code == 200:\n",
    "    # Print the response in JSON format\n",
    "    patient_data = response.json()\n",
    "    print(patient_data)\n",
    "else:\n",
    "    print(f\"Failed to retrieve data: {response.status_code}\")"
   ]
  },
  {
   "cell_type": "code",
   "execution_count": null,
   "id": "3544856cc3f78205",
   "metadata": {
    "ExecuteTime": {
     "end_time": "2024-07-10T11:54:21.723203Z",
     "start_time": "2024-07-10T11:54:21.720974Z"
    }
   },
   "outputs": [],
   "source": [
    "response.json()"
   ]
  },
  {
   "cell_type": "markdown",
   "id": "824d62e19a954a2d",
   "metadata": {},
   "source": [
    "# Vital Signs\n",
    "\n",
    "Create a Python script to retrieve only the patient's numeric vital signs without components, sorted by date and code. Include the result value rounded to 2 decimals and other mandatory elements.\n",
    "\n",
    "1) The order of the elements should be:\n",
    "   - `effectiveDateTime`\n",
    "   - `code.text`\n",
    "   - `valueQuantity.value` and `valueQuantity.unit` (formatted as 'value unit')\n",
    "2) Do not include patient or category information, as they are used as search parameters.\n",
    "3) For numeric data, include only the value and the unit separated by a space (e.g., '18 g/l').\n",
    "4) For CodeableConcept elements, include only the text element.\n",
    "5) Use patient id `X12984`\n",
    "\n",
    "Example: Each line represents a different Vital Sign:\n",
    "\n",
    "mandatory_element_1|...|mandatory_element_n|...\n",
    "mandatory_element_2|...|mandatory_element_n|..."
   ]
  },
  {
   "cell_type": "code",
   "execution_count": null,
   "id": "3ffd4727cb6d89bb",
   "metadata": {
    "ExecuteTime": {
     "end_time": "2024-07-10T11:52:19.653972Z",
     "start_time": "2024-07-10T11:52:19.505571Z"
    }
   },
   "outputs": [],
   "source": [
    "import requests\n",
    "\n",
    "# Patient id\n",
    "id = 'X12984'\n",
    "\n",
    "# Base URL\n",
    "base_url = 'http://fhirserver.hl7fundamentals.org/fhir'\n",
    "resource = 'Observation'\n",
    "\n",
    "# Parameters for the request\n",
    "params = {\n",
    "    \"patient\": id,\n",
    "    \"_format\": \"json\",\n",
    "}\n",
    "\n",
    "# Construct the request URL\n",
    "observation_request = f\"{base_url}/{resource}\"\n",
    "\n",
    "# Print the request URL for debugging purposes\n",
    "print('Now Searching for Observation...@', observation_request)\n",
    "\n",
    "# Perform the request with parameters\n",
    "response = requests.get(observation_request, params=params)\n",
    "procedure_response = response.json()\n",
    "\n",
    "# Initialize the vital_signs list\n",
    "vital_signs = []\n",
    "\n",
    "for entry in procedure_response['entry']:\n",
    "    resource = entry['resource']\n",
    "    effectiveDateTime = resource.get('effectiveDateTime')\n",
    "    \n",
    "    valueQuantity = resource['valueQuantity']\n",
    "    value = valueQuantity['value']\n",
    "    unit = valueQuantity['unit']\n",
    "    \n",
    "    code = resource['code']['coding'][0]\n",
    "    display = code['display']\n",
    "    \n",
    "    vital_signs.append(f'{effectiveDateTime}|{display}|{value} {unit}|')\n",
    "    \n",
    "    \n",
    "    \n",
    "for vital_sign in vital_signs:\n",
    "    print(vital_sign)\n",
    "\n",
    "\n"
   ]
  },
  {
   "cell_type": "code",
   "execution_count": null,
   "id": "f7d4bccb09f208ea",
   "metadata": {
    "ExecuteTime": {
     "end_time": "2024-07-10T11:51:18.952983Z",
     "start_time": "2024-07-10T11:51:18.948688Z"
    }
   },
   "outputs": [],
   "source": [
    "code"
   ]
  },
  {
   "cell_type": "code",
   "execution_count": null,
   "id": "bb8eaea05c5a406c",
   "metadata": {
    "ExecuteTime": {
     "end_time": "2024-07-10T11:51:42.419899Z",
     "start_time": "2024-07-10T11:51:42.416737Z"
    }
   },
   "outputs": [],
   "source": [
    "resource"
   ]
  },
  {
   "cell_type": "markdown",
   "id": "2695d2bfa522e37a",
   "metadata": {},
   "source": [
    "# Clinical Goals\n",
    "\n",
    "Create a Python script to retrieve the patient's clinical goals, including all mandatory elements except the 'subject' element, and return them separated by | (pipe).\n",
    "\n",
    "1) The order of the elements should be:\n",
    "   - `startDate`\n",
    "   - `description`\n",
    "   - `dueDate`\n",
    "   - `lifecycleStatus`\n",
    "2) Do not include patient or category information, as they are used as search parameters.\n",
    "3) For string data, include the text directly.\n",
    "4) For CodeableConcept elements, include only the text element.\n",
    "5) Use patient id `12984`.\n",
    "\n",
    "Example: Each line represents a different Goal:\n",
    "\n",
    "mandatory_element_1|...|mandatory_element_n|...\n",
    "mandatory_element_2|...|mandatory_element_n|..."
   ]
  },
  {
   "cell_type": "code",
   "execution_count": null,
   "id": "24ef1ad61525cc51",
   "metadata": {
    "ExecuteTime": {
     "end_time": "2024-07-10T11:41:04.503100Z",
     "start_time": "2024-07-10T11:41:04.357894Z"
    }
   },
   "outputs": [],
   "source": [
    "import requests\n",
    "\n",
    "# Patient id\n",
    "id = 'X12984'\n",
    "\n",
    "# Base URL\n",
    "base_url = 'http://fhirserver.hl7fundamentals.org/fhir'\n",
    "resource = 'Goal'\n",
    "\n",
    "# Parameters for the request\n",
    "params = {\n",
    "    \"patient\": id,\n",
    "    \"_format\": \"json\"\n",
    "}\n",
    "\n",
    "# Construct the request URL\n",
    "goal_request = f\"{base_url}/{resource}\"\n",
    "\n",
    "# Print the request URL for debugging purposes\n",
    "print('Now Searching for Goals...@', goal_request)\n",
    "\n",
    "# Perform the request with parameters\n",
    "response = requests.get(goal_request, params=params)\n",
    "goal_response = response.json()\n",
    "\n",
    "# Initialize the goals list\n",
    "goals = []\n",
    "\n",
    "# Extracting and formatting the goals\n",
    "for entry in goal_response['entry']:\n",
    "    resource = entry['resource']\n",
    "    start_date = resource.get('startDate', '')\n",
    "    description = resource.get('description', {}).get('text', '')\n",
    "    \n",
    "    # Initialize target values\n",
    "    target_value = ''\n",
    "    target_unit = ''\n",
    "    \n",
    "    # Check if target is a list\n",
    "    if 'target' in resource and isinstance(resource['target'], list):\n",
    "        for target in resource['target']:\n",
    "            if 'dueDate' in target:\n",
    "                dueDate = target.get('dueDate')\n",
    "    \n",
    "    status = resource.get('lifecycleStatus', '')\n",
    "    \n",
    "    formatted_goal = f\"{start_date}|{description}|{dueDate}|{status}\"\n",
    "    goals.append(formatted_goal)\n",
    "\n",
    "# Output the formatted goals\n",
    "for goal in goals:\n",
    "    print(goal)\n"
   ]
  },
  {
   "cell_type": "code",
   "execution_count": null,
   "id": "7fe2c7111b125776",
   "metadata": {
    "ExecuteTime": {
     "end_time": "2024-07-10T11:40:52.967922Z",
     "start_time": "2024-07-10T11:40:52.961487Z"
    }
   },
   "outputs": [],
   "source": [
    "target.get('dueDate')"
   ]
  },
  {
   "cell_type": "markdown",
   "id": "b03ea121ccfcbb8",
   "metadata": {},
   "source": [
    "# Implantable Devices\n",
    "\n",
    "Create a Python script to retrieve the mandatory/must-support elements for all US CORE FHIR R4 Implantable Devices for a patient. Include the elements in the order they appear in the Device resource definition, separated by | (pipe).\n",
    "\n",
    "1) The order of the elements should be:\n",
    "   - `deviceIdentifier`\n",
    "   - `expirationDate`\n",
    "   - `lotNumber`\n",
    "   - `modelNumber`\n",
    "   - `device_type`\n",
    "2) For CodeableConcept elements, include only the display element.\n",
    "3) Use patient id `1`.\n",
    "\n",
    "Example: Each line represents a different Device resource:\n",
    "\n",
    "mandatory_ms_element_1|...|mandatory_ms_element_n|...\n",
    "mandatory_ms_element_2|...|mandatory_ms_element_n|..."
   ]
  },
  {
   "cell_type": "code",
   "execution_count": null,
   "id": "1c9e0bbac7d65d7",
   "metadata": {
    "ExecuteTime": {
     "end_time": "2024-07-10T11:31:52.067607Z",
     "start_time": "2024-07-10T11:31:51.918666Z"
    }
   },
   "outputs": [],
   "source": [
    "import requests\n",
    "\n",
    "# Patient id\n",
    "id = '1'\n",
    "\n",
    "# Base URL\n",
    "base_url = 'http://fhirserver.hl7fundamentals.org/fhir'\n",
    "resource = 'Device'\n",
    "\n",
    "# Parameters for the request\n",
    "params = {\n",
    "    \"patient\": id,\n",
    "    \"_format\": \"json\"\n",
    "}\n",
    "\n",
    "# Construct the request URL\n",
    "device_request = f\"{base_url}/{resource}\"\n",
    "\n",
    "# Print the request URL for debugging purposes\n",
    "print('Now Searching for Devices...@', device_request)\n",
    "\n",
    "# Perform the request with parameters\n",
    "response = requests.get(device_request, params=params)\n",
    "device_response = response.json()\n",
    "\n",
    "# Initialize the devices list\n",
    "devices = []\n",
    "\n",
    "# Extracting and formatting the devices\n",
    "for entry in device_response['entry']:\n",
    "    resource = entry['resource']\n",
    "    identifier = resource.get('identifier', [])\n",
    "    system = None\n",
    "    if identifier:\n",
    "        system = identifier[0].get('system')\n",
    "    udi_carrier = resource.get('udiCarrier', [{}])[0] if resource.get('udiCarrier') else {}\n",
    "    expiration_date = resource.get('expirationDate', '')\n",
    "    lot_number = resource.get('lotNumber', '')\n",
    "    serial_number = resource.get('modelNumber', '')\n",
    "    device_type = resource.get('type', {}).get('coding', [{}])[0].get('display', '')\n",
    "\n",
    "    formatted_device = f\"{system}|{expiration_date}|{lot_number}|{serial_number}|{device_type}\"\n",
    "    devices.append(formatted_device)\n",
    "\n",
    "# Output the formatted devices\n",
    "for device in devices:\n",
    "    print(device)\n"
   ]
  }
 ],
 "metadata": {
  "kernelspec": {
   "display_name": "Python 3 (ipykernel)",
   "language": "python",
   "name": "python3"
  },
  "language_info": {
   "codemirror_mode": {
    "name": "ipython",
    "version": 3
   },
   "file_extension": ".py",
   "mimetype": "text/x-python",
   "name": "python",
   "nbconvert_exporter": "python",
   "pygments_lexer": "ipython3",
   "version": "3.11.4"
  }
 },
 "nbformat": 4,
 "nbformat_minor": 5
}

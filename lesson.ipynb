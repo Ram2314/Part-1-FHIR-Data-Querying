{
 "cells": [
  {
   "cell_type": "markdown",
   "source": [
    "# Making Request to Patient Resource\n",
    "\n",
    "In order to make a request from using Python, we leverage the `requests` library. To form the request, we need three things: base URL, resource name, and parameters.\n",
    "\n",
    "## Components of the Request\n",
    "\n",
    "### 1. Base URL\n",
    "The base URL is the address of the FHIR server where the resources are hosted. This is the starting point for any FHIR request and directs the request to the correct server.\n",
    "\n",
    "### 2. Resource Name\n",
    "The resource name specifies the type of FHIR resource you want to interact with. FHIR defines many resource types such as `Patient`, `Observation`, `Medication`, etc. The resource name is appended to the base URL to form the endpoint for the request.\n",
    "\n",
    "### 3. Parameters\n",
    "Parameters are used to refine and control the data returned by the FHIR server. They can specify various criteria such as format, filters, and other query options.\n",
    "\n",
    "Common parameters include:\n",
    "- `_format`: Specifies the response format (e.g., `json`, `xml`).\n",
    "- `_pretty`: Formats the response for readability.\n",
    "\n",
    "Every API endpoint has different parameters. Usually they are outlined in the documentation. For the `Patient` Resource one such parameter is `birthday`. This means we can query for patient data by birthday"
   ],
   "metadata": {
    "collapsed": false
   },
   "id": "cdbf855a7a17d1f6"
  },
  {
   "cell_type": "code",
   "execution_count": null,
   "outputs": [],
   "source": [],
   "metadata": {
    "collapsed": false,
    "ExecuteTime": {
     "end_time": "2024-07-07T23:45:56.061415Z",
     "start_time": "2024-07-07T23:45:56.058019Z"
    }
   },
   "id": "8484fe92a8fd6f56"
  },
  {
   "cell_type": "markdown",
   "source": [
    "# Activity\n",
    "\n",
    "Please look for another parameter for the Patient resource to filter by and create a new request to fetch patient data.\n",
    "\n",
    "## Step-by-Step Instructions\n",
    "\n",
    "1. **Research Additional Parameters**:\n",
    "   - Visit [FHIR Patient Resource](http://fhirserver.hl7fundamentals.org/resource?serverId=home&pretty=true&_summary=&resource=Patient) to find other parameters that can be used to filter patient data.\n",
    "\n",
    "2. **Choose a Parameter**:\n",
    "   - Select one parameter from the documentation. For this example, let's choose `gender` to filter patients by gender.\n",
    "\n",
    "3. **Formulate the Request**:\n",
    "   - Update the `params` dictionary to include the new parameter along with the existing ones.\n"
   ],
   "metadata": {
    "collapsed": false
   },
   "id": "634a7ca9f7c89709"
  },
  {
   "cell_type": "code",
   "execution_count": null,
   "outputs": [],
   "source": [],
   "metadata": {
    "collapsed": false,
    "ExecuteTime": {
     "end_time": "2024-07-07T23:45:56.062017Z",
     "start_time": "2024-07-07T23:45:56.059792Z"
    }
   },
   "id": "a16a8ac02e901b95"
  },
  {
   "cell_type": "markdown",
   "source": [
    "# Medical Request\n",
    "\n",
    "Create a simple medical request for a patient using Epic on FHIR. Follow the steps below to complete the task.\n",
    "\n",
    "1. **Select a Patient**:\n",
    "    - Use the Epic FHIR Sandbox to select a patient. You can do this by searching for patients or using a specific patient ID provided in the sandbox environment.\n",
    "    - Note down the patient ID for use in your request.\n",
    "\n",
    "2. **Identify the Base URL Endpoint**:\n",
    "    - The base URL for making FHIR requests in the Epic Sandbox environment is typically: `http://fhirserver.hl7fundamentals.org/fhir\"`\n",
    "    - Ensure you have the correct endpoint for your requests.\n",
    "\n",
    "3. **Create a Medical Request**:\n",
    "    - Use the patient ID and the base URL to create a medical request. Below is an example of how to structure your request in Python using the `requests` library."
   ],
   "metadata": {
    "collapsed": false
   },
   "id": "75f4f6e4015c997c"
  },
  {
   "cell_type": "code",
   "execution_count": null,
   "outputs": [],
   "source": [],
   "metadata": {
    "collapsed": false,
    "ExecuteTime": {
     "end_time": "2024-07-07T23:45:56.064837Z",
     "start_time": "2024-07-07T23:45:56.061556Z"
    }
   },
   "id": "edb0234285ec2f82"
  },
  {
   "cell_type": "markdown",
   "source": [
    "# Vital Signs\n",
    "\n",
    "Create a Python script to retrieve only the patient's numeric vital signs without components, sorted by date and code. Include the result value rounded to 2 decimals and other mandatory elements.\n",
    "\n",
    "1) The order of the elements should be:\n",
    "   - `effectiveDateTime`\n",
    "   - `code.text`\n",
    "   - `valueQuantity.value` and `valueQuantity.unit` (formatted as 'value unit')\n",
    "2) Do not include patient or category information, as they are used as search parameters.\n",
    "3) For numeric data, include only the value and the unit separated by a space (e.g., '18 g/l').\n",
    "4) For CodeableConcept elements, include only the text element.\n",
    "5) Use patient id `X12984`\n",
    "\n",
    "Example: Each line represents a different Vital Sign:\n",
    "\n",
    "mandatory_element_1|...|mandatory_element_n|...\n",
    "mandatory_element_2|...|mandatory_element_n|..."
   ],
   "metadata": {
    "collapsed": false
   },
   "id": "824d62e19a954a2d"
  },
  {
   "cell_type": "code",
   "execution_count": null,
   "outputs": [],
   "source": [],
   "metadata": {
    "collapsed": false,
    "ExecuteTime": {
     "end_time": "2024-07-07T23:45:56.067175Z",
     "start_time": "2024-07-07T23:45:56.063962Z"
    }
   },
   "id": "3ffd4727cb6d89bb"
  },
  {
   "cell_type": "markdown",
   "source": [
    "# Clinical Goals\n",
    "\n",
    "Create a Python script to retrieve the patient's clinical goals, including all mandatory elements except the 'subject' element, and return them separated by | (pipe).\n",
    "\n",
    "1) The order of the elements should be:\n",
    "   - `startDate`\n",
    "   - `description`\n",
    "   - `target`\n",
    "   - `status`\n",
    "2) Do not include patient or category information, as they are used as search parameters.\n",
    "3) For string data, include the text directly.\n",
    "4) For CodeableConcept elements, include only the text element.\n",
    "5) Use patient id `12984`.\n",
    "\n",
    "Example: Each line represents a different Goal:\n",
    "\n",
    "mandatory_element_1|...|mandatory_element_n|...\n",
    "mandatory_element_2|...|mandatory_element_n|..."
   ],
   "metadata": {
    "collapsed": false
   },
   "id": "2695d2bfa522e37a"
  },
  {
   "cell_type": "code",
   "execution_count": null,
   "outputs": [],
   "source": [],
   "metadata": {
    "collapsed": false,
    "ExecuteTime": {
     "end_time": "2024-07-07T23:45:56.067280Z",
     "start_time": "2024-07-07T23:45:56.065820Z"
    }
   },
   "id": "24ef1ad61525cc51"
  },
  {
   "cell_type": "markdown",
   "source": [
    "# Implantable Devices\n",
    "\n",
    "Create a Python script to retrieve the mandatory/must-support elements for all US CORE FHIR R4 Implantable Devices for a patient. Include the elements in the order they appear in the Device resource definition, separated by | (pipe).\n",
    "\n",
    "1) The order of the elements should be:\n",
    "   - `device_identifier`\n",
    "   - `expirationDate`\n",
    "   - `lotNumber`\n",
    "   - `model_number`\n",
    "   - `device_type`\n",
    "2) For CodeableConcept elements, include only the display element.\n",
    "3) Use patient id `1`.\n",
    "\n",
    "Example: Each line represents a different Device resource:\n",
    "\n",
    "mandatory_ms_element_1|...|mandatory_ms_element_n|...\n",
    "mandatory_ms_element_2|...|mandatory_ms_element_n|..."
   ],
   "metadata": {
    "collapsed": false
   },
   "id": "b03ea121ccfcbb8"
  },
  {
   "cell_type": "code",
   "execution_count": null,
   "outputs": [],
   "source": [],
   "metadata": {
    "collapsed": false,
    "ExecuteTime": {
     "end_time": "2024-07-07T23:45:56.687208Z",
     "start_time": "2024-07-07T23:45:56.675611Z"
    }
   },
   "id": "1c9e0bbac7d65d7"
  }
 ],
 "metadata": {
  "kernelspec": {
   "display_name": "Python 3",
   "language": "python",
   "name": "python3"
  },
  "language_info": {
   "codemirror_mode": {
    "name": "ipython",
    "version": 2
   },
   "file_extension": ".py",
   "mimetype": "text/x-python",
   "name": "python",
   "nbconvert_exporter": "python",
   "pygments_lexer": "ipython2",
   "version": "2.7.6"
  }
 },
 "nbformat": 4,
 "nbformat_minor": 5
}
